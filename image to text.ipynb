{
 "cells": [
  {
   "cell_type": "code",
   "execution_count": 1,
   "id": "attempted-delivery",
   "metadata": {},
   "outputs": [],
   "source": [
    "import cv2\n",
    "import pytesseract\n",
    "from PIL import Image\n",
    "from googlesearch import search\n",
    "import webbrowser\n",
    "def searchweb(text):\n",
    "    print(\"THE TOP 3 LINKS ARE: \")\n",
    "    for i in search(text, tld=\"co.in\", num=10, stop=3, pause=2):\n",
    "        \n",
    "        print(i)\n",
    "        webbrowser.open(i) "
   ]
  },
  {
   "cell_type": "code",
   "execution_count": 2,
   "id": "brown-charlotte",
   "metadata": {},
   "outputs": [
    {
     "name": "stdout",
     "output_type": "stream",
     "text": [
      "Enter the file path without quotes : C:\\Users\\KIIT\\Downloads\\WhatsApp Image 2021-03-04 at 21.33.56.jpeg\n",
      " \n",
      "\n",
      "public class Test{\n",
      "public static void main(String args(]){\n",
      "String sl = \"SITHA\";\n",
      "String s2 = \"RAMA\";\n",
      "System.out.printin(sl.charAt(0) > s2.charAt\n",
      "\n",
      " \n",
      "\n",
      "(OD);\n",
      "\n",
      " \n",
      "\f",
      "\n",
      "THE TOP 3 LINKS ARE: \n",
      "https://www.examveda.com/determine-output-java-programming-on-strings-4/\n",
      "https://www.examveda.com/the-output-of-the-following-fraction-of-code-is-java-programming-on-strings-1/\n",
      "https://www.atnyla.com/general-knowledge/90/205\n"
     ]
    }
   ],
   "source": [
    "\n",
    "\n",
    "\n",
    "def main():\n",
    "    # Get File Name from Command Line\n",
    "    path = input(\"Enter the file path without quotes : \").strip()\n",
    "    \n",
    "    # Load the required image\n",
    "    image = cv2.imread(path,1)\n",
    "    gray = cv2.cvtColor(image, cv2.COLOR_BGR2GRAY)\n",
    "\n",
    "    #preprocess = False\n",
    "    #temp = input(\n",
    "       # \"Do you want to pre-process the image ?\\nThreshold : 1\\nGrey : 2\\nNone : 0\\nEnter your choice : \").strip()\n",
    "\n",
    "    # If user enters 1, Process Threshold. Else if user enters 2, Process Median Blur. Else, do nothing\n",
    "   # if temp == \"1\":\n",
    "    gray = cv2.threshold(gray, 0, 255, cv2.THRESH_BINARY | cv2.THRESH_OTSU)[1]\n",
    "    #elif temp == \"2\":\n",
    "       # gray = cv2.medianBlur(gray, 3)\n",
    "\n",
    "    # Store grayscale image as a temporary file to apply OCR\n",
    "    #filename = \"{}.png\".format(\"temp\")\n",
    "    #cv2.imwrite(filename, gray)\n",
    "\n",
    "    # Load the image as a PIL/Pillow image, apply OCR, and then delete the temporary file\n",
    "    pytesseract.pytesseract.tesseract_cmd = r'C:\\Users\\USER\\AppData\\Local\\Tesseract-OCR\\tesseract.exe'\n",
    "   # text = pytesseract.image_to_string(Image.open(filename))\n",
    "    text = pytesseract.image_to_string(gray)\n",
    "    print(text)\n",
    "    searchweb(text)\n",
    "    \n",
    "    #query=text\n",
    "\n",
    "\n",
    "#try:\n",
    "main()\n",
    "#except Exception as e:\n",
    "    #print(e.args)\n",
    "    #print(e.__cause__)\n",
    "\n",
    "    "
   ]
  },
  {
   "cell_type": "code",
   "execution_count": null,
   "id": "endless-request",
   "metadata": {},
   "outputs": [],
   "source": []
  }
 ],
 "metadata": {
  "kernelspec": {
   "display_name": "Python 3",
   "language": "python",
   "name": "python3"
  },
  "language_info": {
   "codemirror_mode": {
    "name": "ipython",
    "version": 3
   },
   "file_extension": ".py",
   "mimetype": "text/x-python",
   "name": "python",
   "nbconvert_exporter": "python",
   "pygments_lexer": "ipython3",
   "version": "3.7.3"
  }
 },
 "nbformat": 4,
 "nbformat_minor": 5
}
